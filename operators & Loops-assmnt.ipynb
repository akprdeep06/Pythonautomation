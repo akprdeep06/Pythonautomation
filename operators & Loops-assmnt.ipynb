{
 "cells": [
  {
   "cell_type": "code",
   "execution_count": 1,
   "id": "f73c9989",
   "metadata": {},
   "outputs": [
    {
     "name": "stdout",
     "output_type": "stream",
     "text": [
      "Addition operation: 30\n",
      "Subtraction operation: 10\n",
      "Multiplication operation: 200\n",
      "Divison operation: 1.5\n"
     ]
    }
   ],
   "source": [
    "#Write a function for arithmetic operators(+,-,*,/)\n",
    "\n",
    "\n",
    "a=10\n",
    "b=20\n",
    "c=30\n",
    "\n",
    "print(\"Addition operation:\",a+b)\n",
    "print(\"Subtraction operation:\", c-b)\n",
    "print(\"Multiplication operation:\", a*b)\n",
    "print(\"Divison operation:\", c/b)\n"
   ]
  },
  {
   "cell_type": "code",
   "execution_count": 4,
   "id": "ca942e25",
   "metadata": {},
   "outputs": [
    {
     "name": "stdout",
     "output_type": "stream",
     "text": [
      "increment operation: 11\n",
      "Decrement operation: 19\n"
     ]
    }
   ],
   "source": [
    "#Write a method for increment and decrement operators(++, --)\n",
    "a=10\n",
    "b=20\n",
    "\n",
    "a+=1\n",
    "b-=1\n",
    "print(\"increment operation:\", a)\n",
    "print(\"Decrement operation:\", b)\n"
   ]
  },
  {
   "cell_type": "code",
   "execution_count": 5,
   "id": "e2cc1a72",
   "metadata": {},
   "outputs": [
    {
     "name": "stdout",
     "output_type": "stream",
     "text": [
      "a and b are not equal\n"
     ]
    }
   ],
   "source": [
    "#Write a program to find the two numbers equal or not.\n",
    "\n",
    "a=10\n",
    "b=20\n",
    "\n",
    "if a==b:\n",
    "    print(\"a and b are equal\")\n",
    "else:\n",
    "    print(\"a and b are not equal\")"
   ]
  },
  {
   "cell_type": "code",
   "execution_count": null,
   "id": "8bb893eb",
   "metadata": {},
   "outputs": [],
   "source": [
    "#Program for relational operators (<,<==, >, >==)\n",
    "\n",
    "def relational_operators(a, b):\n",
    "    print(f\"{a} < {b} :\", a < b)\n",
    "    print(f\"{a} <= {b} :\", a <= b)\n",
    "    print(f\"{a} > {b} :\", a > b)\n",
    "    print(f\"{a} >= {b} :\", a >= b)\n",
    "\n",
    "# Example usage\n",
    "a = 10\n",
    "b = 20\n",
    "\n",
    "relational_operators(a, b)\n"
   ]
  },
  {
   "cell_type": "code",
   "execution_count": 7,
   "id": "15794587",
   "metadata": {},
   "outputs": [
    {
     "name": "stdout",
     "output_type": "stream",
     "text": [
      "a is larger number\n"
     ]
    }
   ],
   "source": [
    "#5. Print the smaller and larger number\n",
    "\n",
    "def larger_smaller(a,b):\n",
    "    if a<b:\n",
    "        print(\"a is smaller number\")\n",
    "    elif a>b:\n",
    "        print(\"a is larger number\")\n",
    "    else:\n",
    "        print(\"a & b both are equal\")\n",
    "        \n",
    "        \n",
    "larger_smaller(10,5)        "
   ]
  },
  {
   "cell_type": "code",
   "execution_count": 8,
   "id": "02464406",
   "metadata": {},
   "outputs": [
    {
     "name": "stdout",
     "output_type": "stream",
     "text": [
      "10 is larger than 5\n"
     ]
    }
   ],
   "source": [
    "def larger_smaller(a, b):\n",
    "    if a < b:\n",
    "        print(f\"{a} is smaller than {b}\")\n",
    "    elif a > b:\n",
    "        print(f\"{a} is larger than {b}\")\n",
    "    else:\n",
    "        print(f\"{a} and {b} are equal\")\n",
    "\n",
    "# Example usage\n",
    "larger_smaller(10, 5)\n"
   ]
  },
  {
   "cell_type": "code",
   "execution_count": null,
   "id": "8ed7d8a8",
   "metadata": {},
   "outputs": [],
   "source": [
    "#Loops"
   ]
  },
  {
   "cell_type": "code",
   "execution_count": 11,
   "id": "db9b8e56",
   "metadata": {},
   "outputs": [
    {
     "name": "stdout",
     "output_type": "stream",
     "text": [
      "1 Bright IT Career\n",
      "2 Bright IT Career\n",
      "3 Bright IT Career\n",
      "4 Bright IT Career\n",
      "5 Bright IT Career\n",
      "6 Bright IT Career\n",
      "7 Bright IT Career\n",
      "8 Bright IT Career\n",
      "9 Bright IT Career\n",
      "10 Bright IT Career\n"
     ]
    }
   ],
   "source": [
    "#Write a program to print “Bright IT Career” ten times using for loop\n",
    "\n",
    "\n",
    "for i in range(1,11):\n",
    "    print(i,\"Bright IT Career\")"
   ]
  },
  {
   "cell_type": "code",
   "execution_count": 20,
   "id": "afc1df85",
   "metadata": {},
   "outputs": [
    {
     "name": "stdout",
     "output_type": "stream",
     "text": [
      "1, 2, 3, 4, 5, 6, 7, 8, 9, 10, 11, 12, 13, 14, 15, 16, 17, 18, 19, 20, "
     ]
    }
   ],
   "source": [
    "#Write a java program to print 1 to 20 numbers using the while loop.\n",
    "n=1;\n",
    "while(n<=20):\n",
    "     print(n,end=\", \") \n",
    "     n+=1   "
   ]
  },
  {
   "cell_type": "code",
   "execution_count": 21,
   "id": "436b1aa9",
   "metadata": {},
   "outputs": [
    {
     "name": "stdout",
     "output_type": "stream",
     "text": [
      "10 is equal to 10\n",
      "10 is not equal to 5\n"
     ]
    }
   ],
   "source": [
    "#Program to equal operator and not equal operators\n",
    "\n",
    "def equal_not_equal(a, b):\n",
    "    if a == b:\n",
    "        print(f\"{a} is equal to {b}\")\n",
    "    else:\n",
    "        print(f\"{a} is not equal to {b}\")\n",
    "\n",
    "# Example usage\n",
    "equal_not_equal(10, 10)\n",
    "equal_not_equal(10, 5)\n"
   ]
  },
  {
   "cell_type": "code",
   "execution_count": 22,
   "id": "8feb3a33",
   "metadata": {},
   "outputs": [
    {
     "name": "stdout",
     "output_type": "stream",
     "text": [
      "7 is Odd\n",
      "8 is Even\n"
     ]
    }
   ],
   "source": [
    "#Write a program to print the odd and even numbers.\n",
    "def odd_even(number):\n",
    "    if number % 2 == 0:\n",
    "        print(f\"{number} is Even\")\n",
    "    else:\n",
    "        print(f\"{number} is Odd\")\n",
    "\n",
    "# Example usage\n",
    "odd_even(7)\n",
    "odd_even(8)\n",
    "\n"
   ]
  },
  {
   "cell_type": "code",
   "execution_count": 23,
   "id": "2a797b4c",
   "metadata": {},
   "outputs": [
    {
     "name": "stdout",
     "output_type": "stream",
     "text": [
      "25 is the largest number\n"
     ]
    }
   ],
   "source": [
    "#Write a program to print largest number among three numbers.\n",
    "\n",
    "def largest_among_three(a, b, c):\n",
    "    if a >= b and a >= c:\n",
    "        print(f\"{a} is the largest number\")\n",
    "    elif b >= a and b >= c:\n",
    "        print(f\"{b} is the largest number\")\n",
    "    else:\n",
    "        print(f\"{c} is the largest number\")\n",
    "\n",
    "# Example usage\n",
    "largest_among_three(10, 25, 15)\n",
    "\n"
   ]
  },
  {
   "cell_type": "code",
   "execution_count": 24,
   "id": "51f0e888",
   "metadata": {},
   "outputs": [
    {
     "name": "stdout",
     "output_type": "stream",
     "text": [
      "10\n",
      "12\n",
      "14\n",
      "16\n",
      "18\n",
      "20\n"
     ]
    }
   ],
   "source": [
    "#Write a program to print even number between 10 and 20 using while\n",
    "\n",
    "\n",
    "def even_numbers_while():\n",
    "    number = 10\n",
    "    while number <= 20:\n",
    "        if number % 2 == 0:\n",
    "            print(number)\n",
    "        number += 1\n",
    "\n",
    "# Example usage\n",
    "even_numbers_while()\n"
   ]
  },
  {
   "cell_type": "code",
   "execution_count": null,
   "id": "8a107f90",
   "metadata": {},
   "outputs": [],
   "source": [
    "#Write a program to print 1 to 10 using the do-while loop statement.\n",
    "\n",
    "def print_1_to_10():\n",
    "    number = 1\n",
    "    while True:\n",
    "        print(number)\n",
    "        number += 1\n",
    "        if number > 10:\n",
    "            break\n",
    "\n",
    "# Example usage\n",
    "print_1_to_10()\n"
   ]
  },
  {
   "cell_type": "code",
   "execution_count": 27,
   "id": "d5045740",
   "metadata": {},
   "outputs": [
    {
     "name": "stdout",
     "output_type": "stream",
     "text": [
      "153 is an Armstrong number.\n",
      "123 is NOT an Armstrong number.\n"
     ]
    }
   ],
   "source": [
    "#Write a program to find Armstrong number or not\n",
    "def is_armstrong(number):\n",
    "    # Convert number to string to find number of digits\n",
    "    num_str = str(number)\n",
    "    num_digits = len(num_str)\n",
    "\n",
    "    # Calculate sum of digits each raised to the power of num_digits\n",
    "    sum_of_powers = 0\n",
    "    for digit in num_str:\n",
    "        sum_of_powers += int(digit) ** num_digits\n",
    "\n",
    "    # Compare sum with original number\n",
    "    if sum_of_powers == number:\n",
    "        print(f\"{number} is an Armstrong number.\")\n",
    "    else:\n",
    "        print(f\"{number} is NOT an Armstrong number.\")\n",
    "\n",
    "# Example usage\n",
    "is_armstrong(153)\n",
    "is_armstrong(123)\n"
   ]
  },
  {
   "cell_type": "code",
   "execution_count": 28,
   "id": "92908d1a",
   "metadata": {},
   "outputs": [
    {
     "name": "stdout",
     "output_type": "stream",
     "text": [
      "7 is a prime number.\n",
      "10 is NOT a prime number.\n"
     ]
    }
   ],
   "source": [
    "def prime_or_not(number):\n",
    "    if number <= 1:\n",
    "        print(f\"{number} is NOT a prime number.\")\n",
    "        return\n",
    "\n",
    "    for i in range(2, int(number**0.5) + 1):\n",
    "        if number % i == 0:\n",
    "            print(f\"{number} is NOT a prime number.\")\n",
    "            return\n",
    "\n",
    "    print(f\"{number} is a prime number.\")\n",
    "\n",
    "# Example usage\n",
    "prime_or_not(7)\n",
    "prime_or_not(10)\n"
   ]
  },
  {
   "cell_type": "code",
   "execution_count": 29,
   "id": "1dd3ed1d",
   "metadata": {},
   "outputs": [
    {
     "name": "stdout",
     "output_type": "stream",
     "text": [
      "121 is a palindrome.\n",
      "madam is a palindrome.\n",
      "hello is NOT a palindrome.\n"
     ]
    }
   ],
   "source": [
    "#Write a program to palindrome or not.\n",
    "\n",
    "\n",
    "def is_palindrome(value):\n",
    "    # Convert the value to string to handle both numbers and strings\n",
    "    value_str = str(value)\n",
    "    \n",
    "    # Check if the string is equal to its reverse\n",
    "    if value_str == value_str[::-1]:\n",
    "        print(f\"{value} is a palindrome.\")\n",
    "    else:\n",
    "        print(f\"{value} is NOT a palindrome.\")\n",
    "\n",
    "# Example usage\n",
    "is_palindrome(121)       # Number\n",
    "is_palindrome(\"madam\")   # String\n",
    "is_palindrome(\"hello\")   # String\n"
   ]
  },
  {
   "cell_type": "code",
   "execution_count": 30,
   "id": "918040e6",
   "metadata": {},
   "outputs": [
    {
     "name": "stdout",
     "output_type": "stream",
     "text": [
      "10 is Even\n",
      "7 is Odd\n"
     ]
    }
   ],
   "source": [
    "#Program to check whether a number is EVEN or ODD using switch\n",
    "\n",
    "def check_even_odd(number):\n",
    "    # Use a dictionary to simulate the switch\n",
    "    switch = {\n",
    "        True: f\"{number} is Even\",\n",
    "        False: f\"{number} is Odd\"\n",
    "    }\n",
    "\n",
    "    # Check if the number is even or odd using modulo operator\n",
    "    print(switch[number % 2 == 0])\n",
    "\n",
    "# Example usage\n",
    "check_even_odd(10)\n",
    "check_even_odd(7)\n"
   ]
  },
  {
   "cell_type": "code",
   "execution_count": 31,
   "id": "ea436f46",
   "metadata": {},
   "outputs": [
    {
     "name": "stdout",
     "output_type": "stream",
     "text": [
      "Male\n",
      "Female\n",
      "Invalid input\n"
     ]
    }
   ],
   "source": [
    "#Print gender (Male/Female) program according to given M/F using switch\n",
    "\n",
    "def print_gender(gender):\n",
    "    # Simulating switch using a dictionary\n",
    "    switch = {\n",
    "        'M': \"Male\",\n",
    "        'F': \"Female\"\n",
    "    }\n",
    "\n",
    "    # Use dictionary get method to get the result, with a default value if invalid input\n",
    "    print(switch.get(gender, \"Invalid input\"))\n",
    "\n",
    "# Example usage\n",
    "print_gender('M')  # Output: Male\n",
    "print_gender('F')  # Output: Female\n",
    "print_gender('X')  # Output: Invalid input\n"
   ]
  },
  {
   "cell_type": "code",
   "execution_count": null,
   "id": "e35f2f8e",
   "metadata": {},
   "outputs": [],
   "source": []
  }
 ],
 "metadata": {
  "kernelspec": {
   "display_name": "Python 3 (ipykernel)",
   "language": "python",
   "name": "python3"
  },
  "language_info": {
   "codemirror_mode": {
    "name": "ipython",
    "version": 3
   },
   "file_extension": ".py",
   "mimetype": "text/x-python",
   "name": "python",
   "nbconvert_exporter": "python",
   "pygments_lexer": "ipython3",
   "version": "3.7.17"
  }
 },
 "nbformat": 4,
 "nbformat_minor": 5
}
